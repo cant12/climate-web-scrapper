{
 "cells": [
  {
   "cell_type": "code",
   "execution_count": 2,
   "metadata": {},
   "outputs": [
    {
     "name": "stdout",
     "output_type": "stream",
     "text": [
      "Navigating into journal - Atmospheric Chemistry and Physics\n",
      "Extracting from Volume 24\n"
     ]
    },
    {
     "name": "stderr",
     "output_type": "stream",
     "text": [
      "100%|██████████| 5/5 [00:40<00:00,  8.06s/it]\n"
     ]
    },
    {
     "name": "stdout",
     "output_type": "stream",
     "text": [
      "Extracting from Volume 23\n"
     ]
    },
    {
     "name": "stderr",
     "output_type": "stream",
     "text": [
      "100%|██████████| 24/24 [02:04<00:00,  5.19s/it]\n"
     ]
    },
    {
     "name": "stdout",
     "output_type": "stream",
     "text": [
      "Extracting from Volume 22\n"
     ]
    },
    {
     "name": "stderr",
     "output_type": "stream",
     "text": [
      "100%|██████████| 24/24 [02:20<00:00,  5.83s/it]\n"
     ]
    },
    {
     "name": "stdout",
     "output_type": "stream",
     "text": [
      "Extracting from Volume 21\n"
     ]
    },
    {
     "name": "stderr",
     "output_type": "stream",
     "text": [
      "100%|██████████| 24/24 [01:49<00:00,  4.54s/it]\n"
     ]
    },
    {
     "name": "stdout",
     "output_type": "stream",
     "text": [
      "Extracting from Volume 20\n"
     ]
    },
    {
     "name": "stderr",
     "output_type": "stream",
     "text": [
      "100%|██████████| 24/24 [01:57<00:00,  4.91s/it]\n"
     ]
    },
    {
     "name": "stdout",
     "output_type": "stream",
     "text": [
      "Navigating into journal - Earth System Dynamics\n",
      "Extracting from Volume 15\n"
     ]
    },
    {
     "name": "stderr",
     "output_type": "stream",
     "text": [
      "100%|██████████| 2/2 [00:24<00:00, 12.05s/it]\n"
     ]
    },
    {
     "name": "stdout",
     "output_type": "stream",
     "text": [
      "Extracting from Volume 14\n"
     ]
    },
    {
     "name": "stderr",
     "output_type": "stream",
     "text": [
      "100%|██████████| 6/6 [00:26<00:00,  4.36s/it]\n"
     ]
    },
    {
     "name": "stdout",
     "output_type": "stream",
     "text": [
      "Extracting from Volume 13\n"
     ]
    },
    {
     "name": "stderr",
     "output_type": "stream",
     "text": [
      "100%|██████████| 4/4 [00:17<00:00,  4.39s/it]\n"
     ]
    },
    {
     "name": "stdout",
     "output_type": "stream",
     "text": [
      "Extracting from Volume 12\n"
     ]
    },
    {
     "name": "stderr",
     "output_type": "stream",
     "text": [
      "100%|██████████| 4/4 [00:17<00:00,  4.25s/it]\n"
     ]
    },
    {
     "name": "stdout",
     "output_type": "stream",
     "text": [
      "Extracting from Volume 11\n"
     ]
    },
    {
     "name": "stderr",
     "output_type": "stream",
     "text": [
      "100%|██████████| 4/4 [00:17<00:00,  4.27s/it]\n"
     ]
    },
    {
     "name": "stdout",
     "output_type": "stream",
     "text": [
      "Navigating into journal - Earth System Science Data\n",
      "Extracting from Volume 16\n"
     ]
    },
    {
     "name": "stderr",
     "output_type": "stream",
     "text": [
      "100%|██████████| 3/3 [00:22<00:00,  7.42s/it]\n"
     ]
    },
    {
     "name": "stdout",
     "output_type": "stream",
     "text": [
      "Extracting from Volume 15\n"
     ]
    },
    {
     "name": "stderr",
     "output_type": "stream",
     "text": [
      "100%|██████████| 12/12 [01:16<00:00,  6.36s/it]\n"
     ]
    },
    {
     "name": "stdout",
     "output_type": "stream",
     "text": [
      "Extracting from Volume 14\n"
     ]
    },
    {
     "name": "stderr",
     "output_type": "stream",
     "text": [
      "100%|██████████| 12/12 [01:14<00:00,  6.21s/it]\n"
     ]
    },
    {
     "name": "stdout",
     "output_type": "stream",
     "text": [
      "Extracting from Volume 13\n"
     ]
    },
    {
     "name": "stderr",
     "output_type": "stream",
     "text": [
      "100%|██████████| 12/12 [01:12<00:00,  6.08s/it]\n"
     ]
    },
    {
     "name": "stdout",
     "output_type": "stream",
     "text": [
      "Extracting from Volume 12\n"
     ]
    },
    {
     "name": "stderr",
     "output_type": "stream",
     "text": [
      "100%|██████████| 4/4 [00:19<00:00,  4.97s/it]\n"
     ]
    },
    {
     "name": "stdout",
     "output_type": "stream",
     "text": [
      "Navigating into journal - Geoscientific Model Development\n",
      "Extracting from Volume 17\n"
     ]
    },
    {
     "name": "stderr",
     "output_type": "stream",
     "text": [
      "100%|██████████| 5/5 [00:17<00:00,  3.59s/it]\n"
     ]
    },
    {
     "name": "stdout",
     "output_type": "stream",
     "text": [
      "Extracting from Volume 16\n"
     ]
    },
    {
     "name": "stderr",
     "output_type": "stream",
     "text": [
      "100%|██████████| 24/24 [01:45<00:00,  4.40s/it]\n"
     ]
    },
    {
     "name": "stdout",
     "output_type": "stream",
     "text": [
      "Extracting from Volume 15\n"
     ]
    },
    {
     "name": "stderr",
     "output_type": "stream",
     "text": [
      "100%|██████████| 24/24 [01:39<00:00,  4.14s/it]\n"
     ]
    },
    {
     "name": "stdout",
     "output_type": "stream",
     "text": [
      "Extracting from Volume 14\n"
     ]
    },
    {
     "name": "stderr",
     "output_type": "stream",
     "text": [
      "100%|██████████| 12/12 [00:54<00:00,  4.55s/it]\n"
     ]
    },
    {
     "name": "stdout",
     "output_type": "stream",
     "text": [
      "Extracting from Volume 13\n"
     ]
    },
    {
     "name": "stderr",
     "output_type": "stream",
     "text": [
      "100%|██████████| 12/12 [00:50<00:00,  4.24s/it]\n"
     ]
    },
    {
     "name": "stdout",
     "output_type": "stream",
     "text": [
      "Navigating into journal - Ocean Science\n",
      "Extracting from Volume 20\n"
     ]
    },
    {
     "name": "stderr",
     "output_type": "stream",
     "text": [
      "100%|██████████| 2/2 [00:07<00:00,  3.73s/it]\n"
     ]
    },
    {
     "name": "stdout",
     "output_type": "stream",
     "text": [
      "Extracting from Volume 19\n"
     ]
    },
    {
     "name": "stderr",
     "output_type": "stream",
     "text": [
      "100%|██████████| 6/6 [00:22<00:00,  3.70s/it]\n"
     ]
    },
    {
     "name": "stdout",
     "output_type": "stream",
     "text": [
      "Extracting from Volume 18\n"
     ]
    },
    {
     "name": "stderr",
     "output_type": "stream",
     "text": [
      "100%|██████████| 6/6 [00:25<00:00,  4.24s/it]\n"
     ]
    },
    {
     "name": "stdout",
     "output_type": "stream",
     "text": [
      "Extracting from Volume 17\n"
     ]
    },
    {
     "name": "stderr",
     "output_type": "stream",
     "text": [
      "100%|██████████| 6/6 [00:33<00:00,  5.64s/it]\n"
     ]
    },
    {
     "name": "stdout",
     "output_type": "stream",
     "text": [
      "Extracting from Volume 16\n"
     ]
    },
    {
     "name": "stderr",
     "output_type": "stream",
     "text": [
      "100%|██████████| 6/6 [00:30<00:00,  5.10s/it]\n"
     ]
    }
   ],
   "source": [
    "from euc.euc_node import EUCNode\n",
    "\n",
    "euc_node = EUCNode('EUC')\n",
    "euc_node.expand_node()"
   ]
  },
  {
   "cell_type": "code",
   "execution_count": null,
   "metadata": {},
   "outputs": [],
   "source": [
    "euc_node.display_nav_tree()"
   ]
  },
  {
   "cell_type": "code",
   "execution_count": 3,
   "metadata": {},
   "outputs": [
    {
     "data": {
      "text/html": [
       "<div>\n",
       "<style scoped>\n",
       "    .dataframe tbody tr th:only-of-type {\n",
       "        vertical-align: middle;\n",
       "    }\n",
       "\n",
       "    .dataframe tbody tr th {\n",
       "        vertical-align: top;\n",
       "    }\n",
       "\n",
       "    .dataframe thead th {\n",
       "        text-align: right;\n",
       "    }\n",
       "</style>\n",
       "<table border=\"1\" class=\"dataframe\">\n",
       "  <thead>\n",
       "    <tr style=\"text-align: right;\">\n",
       "      <th></th>\n",
       "      <th>Journal</th>\n",
       "      <th>Volume</th>\n",
       "      <th>Issue</th>\n",
       "      <th>Title</th>\n",
       "      <th>PDF Link</th>\n",
       "    </tr>\n",
       "  </thead>\n",
       "  <tbody>\n",
       "    <tr>\n",
       "      <th>0</th>\n",
       "      <td>Atmospheric Chemistry and Physics</td>\n",
       "      <td>Volume 24</td>\n",
       "      <td>Issue 5</td>\n",
       "      <td>Chemical composition, sources and formation me...</td>\n",
       "      <td>https://acp.copernicus.org/articles/24/2803/20...</td>\n",
       "    </tr>\n",
       "    <tr>\n",
       "      <th>1</th>\n",
       "      <td>Atmospheric Chemistry and Physics</td>\n",
       "      <td>Volume 24</td>\n",
       "      <td>Issue 5</td>\n",
       "      <td>Chemical characterization of atmospheric aeros...</td>\n",
       "      <td>https://acp.copernicus.org/articles/24/2821/20...</td>\n",
       "    </tr>\n",
       "    <tr>\n",
       "      <th>2</th>\n",
       "      <td>Atmospheric Chemistry and Physics</td>\n",
       "      <td>Volume 24</td>\n",
       "      <td>Issue 5</td>\n",
       "      <td>Tropical tropospheric aerosol sources and chem...</td>\n",
       "      <td>https://acp.copernicus.org/articles/24/2837/20...</td>\n",
       "    </tr>\n",
       "    <tr>\n",
       "      <th>3</th>\n",
       "      <td>Atmospheric Chemistry and Physics</td>\n",
       "      <td>Volume 24</td>\n",
       "      <td>Issue 5</td>\n",
       "      <td>A remote sensing algorithm for vertically reso...</td>\n",
       "      <td>https://acp.copernicus.org/articles/24/2861/20...</td>\n",
       "    </tr>\n",
       "    <tr>\n",
       "      <th>4</th>\n",
       "      <td>Atmospheric Chemistry and Physics</td>\n",
       "      <td>Volume 24</td>\n",
       "      <td>Issue 5</td>\n",
       "      <td>On the potential use of highly oxygenated orga...</td>\n",
       "      <td>https://acp.copernicus.org/articles/24/2885/20...</td>\n",
       "    </tr>\n",
       "    <tr>\n",
       "      <th>...</th>\n",
       "      <td>...</td>\n",
       "      <td>...</td>\n",
       "      <td>...</td>\n",
       "      <td>...</td>\n",
       "      <td>...</td>\n",
       "    </tr>\n",
       "    <tr>\n",
       "      <th>6634</th>\n",
       "      <td>Ocean Science</td>\n",
       "      <td>Volume 16</td>\n",
       "      <td>Issue 1</td>\n",
       "      <td>Effects of large-scale floating (solar photovo...</td>\n",
       "      <td>https://os.copernicus.org/articles/16/195/2020...</td>\n",
       "    </tr>\n",
       "    <tr>\n",
       "      <th>6635</th>\n",
       "      <td>Ocean Science</td>\n",
       "      <td>Volume 16</td>\n",
       "      <td>Issue 1</td>\n",
       "      <td>Numerical modelling of the Caspian Sea tides</td>\n",
       "      <td>https://os.copernicus.org/articles/16/209/2020...</td>\n",
       "    </tr>\n",
       "    <tr>\n",
       "      <th>6636</th>\n",
       "      <td>Ocean Science</td>\n",
       "      <td>Volume 16</td>\n",
       "      <td>Issue 1</td>\n",
       "      <td>Decrease in 230Th in the Amundsen Basin since ...</td>\n",
       "      <td>https://os.copernicus.org/articles/16/221/2020...</td>\n",
       "    </tr>\n",
       "    <tr>\n",
       "      <th>6637</th>\n",
       "      <td>Ocean Science</td>\n",
       "      <td>Volume 16</td>\n",
       "      <td>Issue 1</td>\n",
       "      <td>Marine monitoring in Europe: is it adequate to...</td>\n",
       "      <td>https://os.copernicus.org/articles/16/235/2020...</td>\n",
       "    </tr>\n",
       "    <tr>\n",
       "      <th>6638</th>\n",
       "      <td>Ocean Science</td>\n",
       "      <td>Volume 16</td>\n",
       "      <td>Issue 1</td>\n",
       "      <td>High-resolution physical–biogeochemical struct...</td>\n",
       "      <td>https://os.copernicus.org/articles/16/253/2020...</td>\n",
       "    </tr>\n",
       "  </tbody>\n",
       "</table>\n",
       "<p>6639 rows × 5 columns</p>\n",
       "</div>"
      ],
      "text/plain": [
       "                                Journal     Volume    Issue  \\\n",
       "0     Atmospheric Chemistry and Physics  Volume 24  Issue 5   \n",
       "1     Atmospheric Chemistry and Physics  Volume 24  Issue 5   \n",
       "2     Atmospheric Chemistry and Physics  Volume 24  Issue 5   \n",
       "3     Atmospheric Chemistry and Physics  Volume 24  Issue 5   \n",
       "4     Atmospheric Chemistry and Physics  Volume 24  Issue 5   \n",
       "...                                 ...        ...      ...   \n",
       "6634                      Ocean Science  Volume 16  Issue 1   \n",
       "6635                      Ocean Science  Volume 16  Issue 1   \n",
       "6636                      Ocean Science  Volume 16  Issue 1   \n",
       "6637                      Ocean Science  Volume 16  Issue 1   \n",
       "6638                      Ocean Science  Volume 16  Issue 1   \n",
       "\n",
       "                                                  Title  \\\n",
       "0     Chemical composition, sources and formation me...   \n",
       "1     Chemical characterization of atmospheric aeros...   \n",
       "2     Tropical tropospheric aerosol sources and chem...   \n",
       "3     A remote sensing algorithm for vertically reso...   \n",
       "4     On the potential use of highly oxygenated orga...   \n",
       "...                                                 ...   \n",
       "6634  Effects of large-scale floating (solar photovo...   \n",
       "6635       Numerical modelling of the Caspian Sea tides   \n",
       "6636  Decrease in 230Th in the Amundsen Basin since ...   \n",
       "6637  Marine monitoring in Europe: is it adequate to...   \n",
       "6638  High-resolution physical–biogeochemical struct...   \n",
       "\n",
       "                                               PDF Link  \n",
       "0     https://acp.copernicus.org/articles/24/2803/20...  \n",
       "1     https://acp.copernicus.org/articles/24/2821/20...  \n",
       "2     https://acp.copernicus.org/articles/24/2837/20...  \n",
       "3     https://acp.copernicus.org/articles/24/2861/20...  \n",
       "4     https://acp.copernicus.org/articles/24/2885/20...  \n",
       "...                                                 ...  \n",
       "6634  https://os.copernicus.org/articles/16/195/2020...  \n",
       "6635  https://os.copernicus.org/articles/16/209/2020...  \n",
       "6636  https://os.copernicus.org/articles/16/221/2020...  \n",
       "6637  https://os.copernicus.org/articles/16/235/2020...  \n",
       "6638  https://os.copernicus.org/articles/16/253/2020...  \n",
       "\n",
       "[6639 rows x 5 columns]"
      ]
     },
     "execution_count": 3,
     "metadata": {},
     "output_type": "execute_result"
    }
   ],
   "source": [
    "df = euc_node.to_pandas().reset_index(drop=True)\n",
    "df = df.drop(columns=['Website'])\n",
    "df"
   ]
  },
  {
   "cell_type": "code",
   "execution_count": 4,
   "metadata": {},
   "outputs": [],
   "source": [
    "df.to_csv('euc.csv')"
   ]
  }
 ],
 "metadata": {
  "kernelspec": {
   "display_name": "genie",
   "language": "python",
   "name": "python3"
  },
  "language_info": {
   "codemirror_mode": {
    "name": "ipython",
    "version": 3
   },
   "file_extension": ".py",
   "mimetype": "text/x-python",
   "name": "python",
   "nbconvert_exporter": "python",
   "pygments_lexer": "ipython3",
   "version": "3.11.7"
  },
  "orig_nbformat": 4
 },
 "nbformat": 4,
 "nbformat_minor": 2
}
