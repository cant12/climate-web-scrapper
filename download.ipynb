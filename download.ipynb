{
 "cells": [
  {
   "cell_type": "code",
   "execution_count": 7,
   "metadata": {},
   "outputs": [],
   "source": [
    "from custom_driver import bulk_download_pdfs, download_pdf\n",
    "\n",
    "arg_list = [\n",
    "    ('https://acp.copernicus.org/articles/24/3029/2024/acp-24-3029-2024.pdf', './test'),\n",
    "    ('https://acp.copernicus.org/articles/24/2099/2024/acp-24-2099-2024.pdf', './test'),\n",
    "    ('https://agupubs.onlinelibrary.wiley.com/doi/pdfdirect/10.1029/2023AV001024?download=true', './test')\n",
    "]\n"
   ]
  },
  {
   "cell_type": "code",
   "execution_count": 9,
   "metadata": {},
   "outputs": [
    {
     "name": "stderr",
     "output_type": "stream",
     "text": [
      "  0%|          | 0/3 [00:02<?, ?it/s]\n"
     ]
    }
   ],
   "source": [
    "# download_pdf(arg_list[0][0], arg_list[0][1])\n",
    "bulk_download_pdfs(arg_list)"
   ]
  }
 ],
 "metadata": {
  "kernelspec": {
   "display_name": "genie",
   "language": "python",
   "name": "python3"
  },
  "language_info": {
   "codemirror_mode": {
    "name": "ipython",
    "version": 3
   },
   "file_extension": ".py",
   "mimetype": "text/x-python",
   "name": "python",
   "nbconvert_exporter": "python",
   "pygments_lexer": "ipython3",
   "version": "3.11.7"
  },
  "orig_nbformat": 4
 },
 "nbformat": 4,
 "nbformat_minor": 2
}
