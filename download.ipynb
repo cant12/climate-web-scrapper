{
 "cells": [
  {
   "cell_type": "code",
   "execution_count": 27,
   "metadata": {},
   "outputs": [],
   "source": [
    "import os\n",
    "import pandas as pd\n",
    "from custom_driver import bulk_download_pdfs_1, download_pdf\n",
    "\n",
    "root_dir = './test/agu'\n",
    "df = pd.read_csv('agu.csv')\n",
    "\n",
    "def get_dir(df, i):\n",
    "    dir = root_dir\n",
    "    for column in df.columns[1:-2]:\n",
    "        dir = os.path.join(dir, df[column][i])\n",
    "    return dir\n",
    "\n",
    "arg_list = []\n",
    "for i in range(len(df)):\n",
    "    dir = get_dir(df, i)\n",
    "    if not os.path.exists(dir):\n",
    "        os.makedirs(dir)\n",
    "    arg_list.append((df['PDF Link'][i], dir))"
   ]
  },
  {
   "cell_type": "code",
   "execution_count": 29,
   "metadata": {},
   "outputs": [
    {
     "name": "stderr",
     "output_type": "stream",
     "text": [
      "100%|██████████| 100/100 [12:59<00:00,  7.80s/it]\n"
     ]
    }
   ],
   "source": [
    "from tqdm import tqdm\n",
    "\n",
    "for url, dir in tqdm(arg_list[:100]):\n",
    "    download_pdf(url, dir)"
   ]
  },
  {
   "cell_type": "code",
   "execution_count": 30,
   "metadata": {},
   "outputs": [
    {
     "data": {
      "text/plain": [
       "'agu.csv'"
      ]
     },
     "execution_count": 30,
     "metadata": {},
     "output_type": "execute_result"
    }
   ],
   "source": [
    "root_dir.split('/')[-1] + '.csv'"
   ]
  }
 ],
 "metadata": {
  "kernelspec": {
   "display_name": "genie",
   "language": "python",
   "name": "python3"
  },
  "language_info": {
   "codemirror_mode": {
    "name": "ipython",
    "version": 3
   },
   "file_extension": ".py",
   "mimetype": "text/x-python",
   "name": "python",
   "nbconvert_exporter": "python",
   "pygments_lexer": "ipython3",
   "version": "3.11.7"
  },
  "orig_nbformat": 4
 },
 "nbformat": 4,
 "nbformat_minor": 2
}
